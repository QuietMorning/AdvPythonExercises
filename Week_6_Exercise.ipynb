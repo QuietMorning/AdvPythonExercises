{
  "nbformat": 4,
  "nbformat_minor": 0,
  "metadata": {
    "colab": {
      "provenance": [],
      "collapsed_sections": []
    },
    "kernelspec": {
      "name": "python3",
      "display_name": "Python 3"
    },
    "language_info": {
      "name": "python"
    }
  },
  "cells": [
    {
      "cell_type": "code",
      "execution_count": 1,
      "metadata": {
        "id": "ewKb0DoQUtZC"
      },
      "outputs": [],
      "source": [
        "from multiprocessing import Pool\n",
        "from lxml import etree\n",
        "import aiohttp\n",
        "import asyncio\n",
        "import time"
      ]
    },
    {
      "cell_type": "code",
      "source": [
        "!pip install nest_asyncio --quiet\n",
        "import nest_asyncio\n",
        "nest_asyncio.apply()"
      ],
      "metadata": {
        "id": "Kt_f159fOk7o"
      },
      "execution_count": 2,
      "outputs": []
    },
    {
      "cell_type": "markdown",
      "source": [
        "Exercise: Use async for http requests and multiprocessing for parsing html. Compare the performance with the practices in the lecture note\n",
        "\n"
      ],
      "metadata": {
        "id": "t4a2mLx-Jy4x"
      }
    },
    {
      "cell_type": "code",
      "source": [
        "urls = ['https://arxiv.org/abs/2201.000%02d'%i for i in range(1, 11)]"
      ],
      "metadata": {
        "id": "yfSBgnkbJv3j"
      },
      "execution_count": 3,
      "outputs": []
    },
    {
      "cell_type": "code",
      "source": [
        "htmls: list\n",
        "async def get_html(url):\n",
        "      async with aiohttp.ClientSession() as session:\n",
        "          async with session.request('GET', url) as resp:\n",
        "              html = await resp.read()\n",
        "              htmls.append(html)\n",
        "\n",
        "def parse_html(html):\n",
        "  title = etree.HTML(html).xpath('//h1[contains(@class, \"title\")]/text()')\n",
        "  return title\n"
      ],
      "metadata": {
        "id": "3Fp7Rb3rKJZR"
      },
      "execution_count": 4,
      "outputs": []
    },
    {
      "cell_type": "code",
      "source": [],
      "metadata": {
        "id": "ts_Do6xNG2p9"
      },
      "execution_count": 4,
      "outputs": []
    },
    {
      "cell_type": "markdown",
      "source": [
        "Complete the following routines"
      ],
      "metadata": {
        "id": "laBCHpe8Njhb"
      }
    },
    {
      "cell_type": "code",
      "source": [
        "def main_get_html():\n",
        "  '''\n",
        "  use asyncio\n",
        "  '''\n",
        "  loop = asyncio.get_event_loop()\n",
        "  loop.run_until_complete(asyncio.gather(*(get_html(url) for url in urls)))\n",
        "\n",
        "def main_parse_html():\n",
        "  '''\n",
        "  use multiprocessing\n",
        "  '''\n",
        "  with Pool(10) as p:\n",
        "    p.map(parse_html, htmls)"
      ],
      "metadata": {
        "id": "CnJNOL5QM514"
      },
      "execution_count": 5,
      "outputs": []
    },
    {
      "cell_type": "code",
      "source": [
        "%%time\n",
        "htmls = []\n",
        "main_get_html()\n",
        "main_parse_html()"
      ],
      "metadata": {
        "colab": {
          "base_uri": "https://localhost:8080/"
        },
        "id": "M_1sW-ibNSOt",
        "outputId": "d124aced-6c73-4626-e35b-ef0804b0f985"
      },
      "execution_count": 6,
      "outputs": [
        {
          "output_type": "stream",
          "name": "stdout",
          "text": [
            "CPU times: user 89.6 ms, sys: 75.1 ms, total: 165 ms\n",
            "Wall time: 820 ms\n"
          ]
        }
      ]
    },
    {
      "cell_type": "markdown",
      "source": [
        "How about using multi threads for parsing html? Try it out"
      ],
      "metadata": {
        "id": "NfLB7MxxQXgN"
      }
    },
    {
      "cell_type": "code",
      "source": [
        "import threading"
      ],
      "metadata": {
        "id": "IdXJJ4FxQW4z"
      },
      "execution_count": 7,
      "outputs": []
    },
    {
      "cell_type": "code",
      "source": [
        "%%time\n",
        "threads = [threading.Thread(target=parse_html, args=(html,)) for html in htmls]\n",
        "for thread in threads:\n",
        "    thread.start()\n",
        "for thread in threads:\n",
        "    thread.join()"
      ],
      "metadata": {
        "colab": {
          "base_uri": "https://localhost:8080/"
        },
        "id": "LdOOVLBmG-oA",
        "outputId": "6d13dec7-f5b2-42f6-848f-b6d797e014f8"
      },
      "execution_count": 8,
      "outputs": [
        {
          "output_type": "stream",
          "name": "stdout",
          "text": [
            "CPU times: user 21.4 ms, sys: 4.43 ms, total: 25.8 ms\n",
            "Wall time: 29.3 ms\n"
          ]
        }
      ]
    },
    {
      "cell_type": "code",
      "source": [],
      "metadata": {
        "id": "FA8D5_-7KMfY"
      },
      "execution_count": 8,
      "outputs": []
    }
  ]
}