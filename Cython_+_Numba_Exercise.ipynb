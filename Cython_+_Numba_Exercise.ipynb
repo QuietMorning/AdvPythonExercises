{
  "nbformat": 4,
  "nbformat_minor": 0,
  "metadata": {
    "colab": {
      "name": "Cython + Numba Exercise.ipynb",
      "provenance": [],
      "collapsed_sections": []
    },
    "kernelspec": {
      "name": "python3",
      "display_name": "Python 3"
    },
    "language_info": {
      "name": "python"
    }
  },
  "cells": [
    {
      "cell_type": "markdown",
      "source": [
        "Exercise is meant for you to experiment with cython and numba to see how much efficiency can be obtained by using these two tools"
      ],
      "metadata": {
        "id": "W8HrmHj7LN1y"
      }
    },
    {
      "cell_type": "code",
      "source": [
        "import numpy as np\n",
        "import seaborn as sb\n",
        "import pandas as pd"
      ],
      "metadata": {
        "id": "iv3vfpzxQisM"
      },
      "execution_count": 151,
      "outputs": []
    },
    {
      "cell_type": "code",
      "source": [
        "class Particle:\n",
        "  def __init__(self, x, y, ang_speed):\n",
        "    self.x = x\n",
        "    self.y = y\n",
        "    self.ang_speed = ang_speed"
      ],
      "metadata": {
        "id": "duLFBDZPPheC"
      },
      "execution_count": 152,
      "outputs": []
    },
    {
      "cell_type": "code",
      "execution_count": 153,
      "metadata": {
        "id": "eoSyUNXJCZB-"
      },
      "outputs": [],
      "source": [
        "def evolve_wrapper(dt, particles):\n",
        "  timestep = 1\n",
        "  nsteps = int(dt/timestep)\n",
        "  r_i = np.array([[p.x, p.y] for p in particles])\n",
        "  ang_speed = np.array([p.ang_speed for p in particles])\n",
        "  evolve(r_i, ang_speed, timestep, nsteps)\n",
        "\n",
        "  for i, p in enumerate(particles):\n",
        "    p.x, p.y = r_i[i]\n",
        "\n",
        "def evolve(r_i, ang_speed, timestep, nsteps):\n",
        "  v_i = np.empty_like(r_i)\n",
        "  for i in range(nsteps):\n",
        "    norm_i = np.sqrt((r_i ** 2).sum(axis=1))\n",
        "    v_i = r_i[:, [1,0]]\n",
        "    v_i[:, 0] *= -1\n",
        "    v_i /= norm_i[:, np.newaxis]\n",
        "    d_i = timestep * ang_speed[:, np.newaxis] * v_i\n",
        "\n",
        "    r_i += d_i"
      ]
    },
    {
      "cell_type": "code",
      "source": [
        "n_particle = 100\n",
        "coord = np.random.randn(n_particle, 3)\n",
        "particles = []\n",
        "for i in range(0, n_particle):\n",
        "  particles.append(Particle(coord[i][0], coord[i][1], coord[i][2]))"
      ],
      "metadata": {
        "id": "H6YiZC1qV6PI"
      },
      "execution_count": 154,
      "outputs": []
    },
    {
      "cell_type": "code",
      "source": [
        "sb.scatterplot(x='x', y='y', data=pd.DataFrame([[p.x,p.y] for p in particles],columns = ['x', 'y']))"
      ],
      "metadata": {
        "colab": {
          "base_uri": "https://localhost:8080/",
          "height": 297
        },
        "id": "Q6ZsQRA0bM_X",
        "outputId": "4fcb5f72-f729-4f20-fe25-c704811fad32"
      },
      "execution_count": 155,
      "outputs": [
        {
          "output_type": "execute_result",
          "data": {
            "text/plain": [
              "<matplotlib.axes._subplots.AxesSubplot at 0x7f6906105210>"
            ]
          },
          "metadata": {},
          "execution_count": 155
        },
        {
          "output_type": "display_data",
          "data": {
            "text/plain": [
              "<Figure size 432x288 with 1 Axes>"
            ],
            "image/png": "[encoded data removed]"
          },
          "metadata": {
            "needs_background": "light"
          }
        }
      ]
    },
    {
      "cell_type": "code",
      "source": [
        "evolve_wrapper(1, particles)"
      ],
      "metadata": {
        "id": "OecxMgYKbppR"
      },
      "execution_count": 156,
      "outputs": []
    },
    {
      "cell_type": "code",
      "source": [
        "sb.scatterplot(x='x', y='y', data=pd.DataFrame([[p.x,p.y] for p in particles],columns = ['x', 'y']))"
      ],
      "metadata": {
        "colab": {
          "base_uri": "https://localhost:8080/",
          "height": 297
        },
        "id": "Pwr0aCHXblyO",
        "outputId": "0630942a-6979-4dd1-b65c-7202ed97601c"
      },
      "execution_count": 157,
      "outputs": [
        {
          "output_type": "execute_result",
          "data": {
            "text/plain": [
              "<matplotlib.axes._subplots.AxesSubplot at 0x7f69070f4150>"
            ]
          },
          "metadata": {},
          "execution_count": 157
        },
        {
          "output_type": "display_data",
          "data": {
            "text/plain": [
              "<Figure size 432x288 with 1 Axes>"
            ],
            "image/png": "[encoded data removed]"
          },
          "metadata": {
            "needs_background": "light"
          }
        }
      ]
    },
    {
      "cell_type": "code",
      "source": [
        "%timeit evolve_wrapper(1, particles)"
      ],
      "metadata": {
        "colab": {
          "base_uri": "https://localhost:8080/"
        },
        "id": "ozTW98facEM6",
        "outputId": "2f579729-6553-4b5b-e358-4e813f378f12"
      },
      "execution_count": 160,
      "outputs": [
        {
          "output_type": "stream",
          "name": "stdout",
          "text": [
            "265 µs ± 15.3 µs per loop (mean ± std. dev. of 7 runs, 1000 loops each)\n"
          ]
        }
      ]
    },
    {
      "cell_type": "markdown",
      "source": [
        "Can you rewrite the evolve method to make it faster?"
      ],
      "metadata": {
        "id": "LeOasafdcAjl"
      }
    },
    {
      "cell_type": "code",
      "source": [
        "import cython\n",
        "%load_ext Cython"
      ],
      "metadata": {
        "colab": {
          "base_uri": "https://localhost:8080/"
        },
        "id": "4p1hPhi_YOUi",
        "outputId": "b25bc9f3-8cd6-46b7-a4e3-de5e63ff6557"
      },
      "execution_count": 161,
      "outputs": [
        {
          "output_type": "stream",
          "name": "stdout",
          "text": [
            "The Cython extension is already loaded. To reload it, use:\n",
            "  %reload_ext Cython\n"
          ]
        }
      ]
    },
    {
      "cell_type": "code",
      "source": [
        "%%cython\n",
        "\n",
        "cdef class Particle_c:\n",
        "  cdef public double x # only viewable to cython\n",
        "  cdef public double y # only readable, not writable\n",
        "  cdef readonly double ang_speed # can be read from python file\n",
        "  def __init__(self, double x, double y, double ang_speed):\n",
        "    self.x = x\n",
        "    self.y = y\n",
        "    self.ang_speed = ang_speed\n",
        "\n",
        "cpdef void evolve_c(double[:] x_i, double[:] y_i, double[:] ang_speed, int timestep, int nsteps):\n",
        "  cdef int i, j\n",
        "  cdef double negvx, vy, negdx, dy, norm\n",
        "\n",
        "  for i in range(nsteps):\n",
        "    negvx_i = y_i\n",
        "    vy_i = x_i\n",
        "    for j in range(len(x_i)):\n",
        "      norm = (x_i[j] ** 2 + y_i[j] ** 2) ** 0.5\n",
        "      negvx /= norm\n",
        "      vy /= norm\n",
        "      negdx = timestep * ang_speed[j] * negvx\n",
        "      dy = timestep * ang_speed[j] * vy\n",
        "      x_i[j] = x_i[j] - negdx\n",
        "      y_i[j] = y_i[j] + dy\n",
        "\n",
        "import numpy as np\n",
        "cpdef void evolve_wrapper_c(double dt, list particles):\n",
        "  cdef int timestep = 1\n",
        "  cdef int j\n",
        "  cdef int nsteps = int(dt/timestep)\n",
        "  cdef double[:] x_i = np.zeros(len(particles))\n",
        "  cdef double[:] y_i = np.zeros(len(particles))\n",
        "  cdef double[:] ang_speed = np.zeros(len(particles))\n",
        "  for j in range(len(particles)):\n",
        "    x_i[j] = particles[j].x\n",
        "    y_i[j] = particles[j].y\n",
        "    ang_speed[j] = particles[j].ang_speed\n",
        "  evolve_c(x_i, y_i, ang_speed, timestep, nsteps)"
      ],
      "metadata": {
        "id": "ob_KPHiWTH_7"
      },
      "execution_count": 195,
      "outputs": []
    },
    {
      "cell_type": "code",
      "source": [
        "n_particle = 100\n",
        "coord = np.random.randn(n_particle, 3)\n",
        "particles = []\n",
        "for i in range(0, n_particle):\n",
        "  particles.append(Particle_c(coord[i][0], coord[i][1], coord[i][2]))"
      ],
      "metadata": {
        "id": "CPoK1SpkT0G8"
      },
      "execution_count": 196,
      "outputs": []
    },
    {
      "cell_type": "code",
      "source": [
        "%timeit evolve_wrapper_c(1, particles)"
      ],
      "metadata": {
        "colab": {
          "base_uri": "https://localhost:8080/"
        },
        "id": "RsKqW0aQT8B6",
        "outputId": "cfc9d46b-6de2-4d80-e0e4-af45966d5afb"
      },
      "execution_count": 197,
      "outputs": [
        {
          "output_type": "stream",
          "name": "stdout",
          "text": [
            "43.9 µs ± 401 ns per loop (mean ± std. dev. of 7 runs, 10000 loops each)\n"
          ]
        }
      ]
    },
    {
      "cell_type": "code",
      "source": [],
      "metadata": {
        "id": "dtGtG1YcYG23"
      },
      "execution_count": null,
      "outputs": []
    }
  ]
}