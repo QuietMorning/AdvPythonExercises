{
  "nbformat": 4,
  "nbformat_minor": 0,
  "metadata": {
    "colab": {
      "provenance": [],
      "collapsed_sections": [
        "w7HLb-pNpXQH"
      ],
      "toc_visible": true
    },
    "kernelspec": {
      "name": "python3",
      "display_name": "Python 3"
    },
    "language_info": {
      "name": "python"
    }
  },
  "cells": [
    {
      "cell_type": "markdown",
      "source": [
        "# Week 5 Exercise\n",
        "\n",
        "Choose at least **one** of the task below as practice."
      ],
      "metadata": {
        "id": "ofB0EQ1NSFma"
      }
    },
    {
      "cell_type": "markdown",
      "source": [
        "---\n",
        "## Task 1: Computer monitor"
      ],
      "metadata": {
        "id": "hfCURtMFnW0p"
      }
    },
    {
      "cell_type": "markdown",
      "source": [
        "We have implemented the CPU monitor in the lecture.\n",
        "- try to add more functions to its and make it display more information.\n",
        "  - For example: memory usage, disk usage, internet connection etc.\n",
        "- try to use more complex pipeline to display a variety of information.\n",
        "  - For example: CPU usage of past 10s/30s/1min,  \n"
      ],
      "metadata": {
        "id": "QKoQvvDAnbBA"
      }
    },
    {
      "cell_type": "code",
      "execution_count": 12,
      "metadata": {
        "id": "ba73eaAcnOb6",
        "colab": {
          "base_uri": "https://localhost:8080/"
        },
        "outputId": "62338e4b-1d3f-4e3c-90d3-dfb9eb4c5c5b"
      },
      "outputs": [
        {
          "output_type": "stream",
          "name": "stdout",
          "text": [
            "\u001b[?25l\r\u001b[K     |█▋                              | 10 kB 18.5 MB/s eta 0:00:01\r\u001b[K     |███▎                            | 20 kB 3.0 MB/s eta 0:00:01\r\u001b[K     |█████                           | 30 kB 4.3 MB/s eta 0:00:01\r\u001b[K     |██████▋                         | 40 kB 1.7 MB/s eta 0:00:01\r\u001b[K     |████████▎                       | 51 kB 1.8 MB/s eta 0:00:01\r\u001b[K     |█████████▉                      | 61 kB 2.2 MB/s eta 0:00:01\r\u001b[K     |███████████▌                    | 71 kB 2.3 MB/s eta 0:00:01\r\u001b[K     |█████████████▏                  | 81 kB 2.4 MB/s eta 0:00:01\r\u001b[K     |██████████████▉                 | 92 kB 2.7 MB/s eta 0:00:01\r\u001b[K     |████████████████▌               | 102 kB 2.1 MB/s eta 0:00:01\r\u001b[K     |██████████████████              | 112 kB 2.1 MB/s eta 0:00:01\r\u001b[K     |███████████████████▊            | 122 kB 2.1 MB/s eta 0:00:01\r\u001b[K     |█████████████████████▍          | 133 kB 2.1 MB/s eta 0:00:01\r\u001b[K     |███████████████████████         | 143 kB 2.1 MB/s eta 0:00:01\r\u001b[K     |████████████████████████▊       | 153 kB 2.1 MB/s eta 0:00:01\r\u001b[K     |██████████████████████████▎     | 163 kB 2.1 MB/s eta 0:00:01\r\u001b[K     |████████████████████████████    | 174 kB 2.1 MB/s eta 0:00:01\r\u001b[K     |█████████████████████████████▋  | 184 kB 2.1 MB/s eta 0:00:01\r\u001b[K     |███████████████████████████████▎| 194 kB 2.1 MB/s eta 0:00:01\r\u001b[K     |████████████████████████████████| 199 kB 2.1 MB/s \n",
            "\u001b[?25h"
          ]
        }
      ],
      "source": [
        "!pip install rx --quiet"
      ]
    },
    {
      "cell_type": "markdown",
      "source": [
        "### Define and initialize observables"
      ],
      "metadata": {
        "id": "w7HLb-pNpXQH"
      }
    },
    {
      "cell_type": "code",
      "source": [],
      "metadata": {
        "id": "sdmNoT4jn-Fc"
      },
      "execution_count": null,
      "outputs": []
    },
    {
      "cell_type": "markdown",
      "source": [
        "### Define the monitor function/Class"
      ],
      "metadata": {
        "id": "jMQx-FHypeir"
      }
    },
    {
      "cell_type": "code",
      "source": [],
      "metadata": {
        "id": "pI2C7HrGpo4a"
      },
      "execution_count": null,
      "outputs": []
    },
    {
      "cell_type": "markdown",
      "source": [
        "---\n",
        "\n",
        "## Task 2: Calculate integration with Monte Carlo method\n",
        "\n",
        "- Use Theano, TensorFlow to calculate the integration $∫_0^1 x^2$.\n",
        "- Compare with the serial implementation."
      ],
      "metadata": {
        "id": "iMTxK5QfpbAB"
      }
    },
    {
      "cell_type": "markdown",
      "source": [
        "### Serial implementation"
      ],
      "metadata": {
        "id": "l3A4f3kSqt54"
      }
    },
    {
      "cell_type": "code",
      "source": [
        "import numpy as np"
      ],
      "metadata": {
        "id": "MltUDIivqxms"
      },
      "execution_count": 30,
      "outputs": []
    },
    {
      "cell_type": "code",
      "source": [
        "n = 100000\n",
        "a = np.random.uniform(0, 1, n)\n",
        "np.mean(a ** 2)"
      ],
      "metadata": {
        "colab": {
          "base_uri": "https://localhost:8080/"
        },
        "id": "IgZvk-xGyBsm",
        "outputId": "5b3dcaf3-fb6f-4d66-f556-509c3909a698"
      },
      "execution_count": 31,
      "outputs": [
        {
          "output_type": "execute_result",
          "data": {
            "text/plain": [
              "0.33365382267107313"
            ]
          },
          "metadata": {},
          "execution_count": 31
        }
      ]
    },
    {
      "cell_type": "markdown",
      "source": [
        "Calculate the time cost"
      ],
      "metadata": {
        "id": "mEzSe9rZq194"
      }
    },
    {
      "cell_type": "code",
      "source": [
        "%%timeit\n",
        "np.mean(a ** 2)"
      ],
      "metadata": {
        "id": "c5XZvd2Jq6m3",
        "colab": {
          "base_uri": "https://localhost:8080/"
        },
        "outputId": "d66c2a1f-942e-4f2e-fd7e-e0d565d72aa6"
      },
      "execution_count": 32,
      "outputs": [
        {
          "output_type": "stream",
          "name": "stdout",
          "text": [
            "188 µs ± 5.51 µs per loop (mean ± std. dev. of 7 runs, 1000 loops each)\n"
          ]
        }
      ]
    },
    {
      "cell_type": "markdown",
      "source": [
        "### Use Theano "
      ],
      "metadata": {
        "id": "piYyzWdkqkqR"
      }
    },
    {
      "cell_type": "code",
      "source": [
        "!pip install Theano --quiet"
      ],
      "metadata": {
        "colab": {
          "base_uri": "https://localhost:8080/"
        },
        "id": "I7sT3d9q0OgG",
        "outputId": "41c1ed6b-58c3-47a8-cc2c-6746c28e0f7f"
      },
      "execution_count": 13,
      "outputs": [
        {
          "output_type": "stream",
          "name": "stdout",
          "text": [
            "\u001b[K     |████████████████████████████████| 2.8 MB 2.1 MB/s \n",
            "\u001b[?25h  Building wheel for Theano (setup.py) ... \u001b[?25l\u001b[?25hdone\n"
          ]
        }
      ]
    },
    {
      "cell_type": "code",
      "source": [
        "import theano.tensor as T\n",
        "import theano as th\n",
        "\n",
        "# enable OpenMP support\n",
        "th.config.openmp_elemwise_minsize = 1000\n",
        "th.config.openmp = True\n",
        "\n",
        "# define theano function\n",
        "x = T.vector(\"x\")\n",
        "squares = x ** 2 \n",
        "sum_squares = squares.sum()\n",
        "length = x.shape[0]\n",
        "res = sum_squares / length\n",
        "calculate_integral = th.function([x], res)\n"
      ],
      "metadata": {
        "id": "RE_MjTB00ruP"
      },
      "execution_count": 34,
      "outputs": []
    },
    {
      "cell_type": "code",
      "source": [
        "res = calculate_integral(a)\n",
        "res"
      ],
      "metadata": {
        "colab": {
          "base_uri": "https://localhost:8080/"
        },
        "id": "_gzRE6go0xmV",
        "outputId": "46067f38-31af-4aa7-af79-8c0dd56707d6"
      },
      "execution_count": 35,
      "outputs": [
        {
          "output_type": "execute_result",
          "data": {
            "text/plain": [
              "array(0.33365382)"
            ]
          },
          "metadata": {},
          "execution_count": 35
        }
      ]
    },
    {
      "cell_type": "markdown",
      "source": [
        "Calculate the time cost"
      ],
      "metadata": {
        "id": "1_3wpk_FrGUZ"
      }
    },
    {
      "cell_type": "code",
      "source": [
        "%%timeit\n",
        "res = calculate_pi(a)"
      ],
      "metadata": {
        "id": "iC_UJwvBrHOZ",
        "colab": {
          "base_uri": "https://localhost:8080/"
        },
        "outputId": "87e4ce16-bcdb-400a-b9b9-ab9665984472"
      },
      "execution_count": 36,
      "outputs": [
        {
          "output_type": "stream",
          "name": "stdout",
          "text": [
            "337 µs ± 3.14 µs per loop (mean ± std. dev. of 7 runs, 1000 loops each)\n"
          ]
        }
      ]
    },
    {
      "cell_type": "markdown",
      "source": [
        "### Use TensorFlow"
      ],
      "metadata": {
        "id": "2NWrvrg0rIg1"
      }
    },
    {
      "cell_type": "code",
      "source": [
        "import tensorflow.compat.v1 as tf\n",
        "tf.disable_v2_behavior()"
      ],
      "metadata": {
        "id": "4kHSxnJvrK1N"
      },
      "execution_count": 37,
      "outputs": []
    },
    {
      "cell_type": "code",
      "source": [
        "x = tf.placeholder(\"float64\", name=\"x\")\n",
        "\n",
        "squares = x ** 2\n",
        "res = tf.reduce_mean(tf.cast(squares, \"float32\"))"
      ],
      "metadata": {
        "id": "xh4SO_Mk13mY"
      },
      "execution_count": 42,
      "outputs": []
    },
    {
      "cell_type": "code",
      "source": [
        "sess = tf.Session()"
      ],
      "metadata": {
        "id": "28AAaoOD13pO"
      },
      "execution_count": 43,
      "outputs": []
    },
    {
      "cell_type": "code",
      "source": [
        "sess.run(res, {x: a})"
      ],
      "metadata": {
        "colab": {
          "base_uri": "https://localhost:8080/"
        },
        "id": "UEXgI-MQ13r4",
        "outputId": "029ca938-9a7e-417f-c9c4-b944e8b8ea5f"
      },
      "execution_count": 44,
      "outputs": [
        {
          "output_type": "execute_result",
          "data": {
            "text/plain": [
              "0.33365384"
            ]
          },
          "metadata": {},
          "execution_count": 44
        }
      ]
    },
    {
      "cell_type": "markdown",
      "source": [
        "Calculate the time cost"
      ],
      "metadata": {
        "id": "_q6sk1eCrLfX"
      }
    },
    {
      "cell_type": "code",
      "source": [
        "%%timeit\n",
        "sess.run(res, {x: a})"
      ],
      "metadata": {
        "id": "Nr2byqPbrMFz",
        "colab": {
          "base_uri": "https://localhost:8080/"
        },
        "outputId": "2296a199-54e8-4ef0-a161-1794e4255a12"
      },
      "execution_count": 46,
      "outputs": [
        {
          "output_type": "stream",
          "name": "stdout",
          "text": [
            "819 µs ± 16.1 µs per loop (mean ± std. dev. of 7 runs, 1000 loops each)\n"
          ]
        }
      ]
    },
    {
      "cell_type": "code",
      "source": [],
      "metadata": {
        "id": "UmMzDIUw2PBi"
      },
      "execution_count": null,
      "outputs": []
    }
  ]
}